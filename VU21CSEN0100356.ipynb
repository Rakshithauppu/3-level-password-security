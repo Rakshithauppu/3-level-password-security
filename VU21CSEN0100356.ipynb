{
  "nbformat": 4,
  "nbformat_minor": 0,
  "metadata": {
    "colab": {
      "provenance": [],
      "authorship_tag": "ABX9TyOeGS/r1BAklQuy0uim/yMQ",
      "include_colab_link": true
    },
    "kernelspec": {
      "name": "python3",
      "display_name": "Python 3"
    },
    "language_info": {
      "name": "python"
    }
  },
  "cells": [
    {
      "cell_type": "markdown",
      "metadata": {
        "id": "view-in-github",
        "colab_type": "text"
      },
      "source": [
        "<a href=\"https://colab.research.google.com/github/Rakshithauppu/3-level-password-security/blob/main/VU21CSEN0100356.ipynb\" target=\"_parent\"><img src=\"https://colab.research.google.com/assets/colab-badge.svg\" alt=\"Open In Colab\"/></a>"
      ]
    },
    {
      "cell_type": "code",
      "execution_count": 6,
      "metadata": {
        "colab": {
          "base_uri": "https://localhost:8080/"
        },
        "id": "jiPqid0lceCm",
        "outputId": "1f112141-4955-46bb-936d-2dc5fd590f0a"
      },
      "outputs": [
        {
          "output_type": "stream",
          "name": "stdout",
          "text": [
            "Welcome to the Three-Level Password System\n",
            "\n",
            "Enter your textual password: RakshithaUppu\n",
            "Textual authentication successful.\n",
            "\n",
            "Select the images in the correct sequence:\n",
            "1. [Cloud]\n",
            "2. [Tree]\n",
            "3. [Sun]\n",
            "4. [Star]\n",
            "5. [Moon]\n",
            "Enter the sequence of numbers: 2 4 1\n",
            "Graphical authentication successful.\n",
            "\n",
            "Type the following phrase: 'Secure and Fast'\n",
            ">>> Secure and Fast\n",
            "Behavioral authentication successful.\n",
            "\n",
            "Access Granted!\n"
          ]
        }
      ],
      "source": [
        "import hashlib\n",
        "import time\n",
        "import random\n",
        "\n",
        "def textual_authentication():\n",
        "    correct_password_hash = hashlib.sha256(\"RakshithaUppu\".encode()).hexdigest()\n",
        "    password = input(\"Enter your textual password: \")\n",
        "    if hashlib.sha256(password.encode()).hexdigest() == correct_password_hash:\n",
        "        return True\n",
        "    return False\n",
        "\n",
        "def graphical_authentication():\n",
        "    images = [\"[Sun]\", \"[Moon]\", \"[Star]\", \"[Tree]\", \"[Cloud]\"]\n",
        "    correct_sequence = [2, 4, 1]\n",
        "    random.shuffle(images)\n",
        "\n",
        "    print(\"Select the images in the correct sequence:\")\n",
        "    for i, img in enumerate(images):\n",
        "        print(f\"{i+1}. {img}\")\n",
        "\n",
        "    user_sequence = list(map(int, input(\"Enter the sequence of numbers: \").split()))\n",
        "    return user_sequence == correct_sequence\n",
        "\n",
        "def behavioral_authentication():\n",
        "    print(\"Type the following phrase: 'Secure and Fast'\")\n",
        "    start_time = time.time()\n",
        "    input_text = input(\">>> \")\n",
        "    typing_speed = time.time() - start_time\n",
        "\n",
        "    if input_text == \"Secure and Fast\" and typing_speed < 20:\n",
        "        return True\n",
        "    return False\n",
        "\n",
        "def main():\n",
        "    print(\"Welcome to the Three-Level Password System\\n\")\n",
        "\n",
        "    if textual_authentication():\n",
        "        print(\"Textual authentication successful.\\n\")\n",
        "\n",
        "        if graphical_authentication():\n",
        "            print(\"Graphical authentication successful.\\n\")\n",
        "\n",
        "            if behavioral_authentication():\n",
        "                print(\"Behavioral authentication successful.\\n\")\n",
        "                print(\"Access Granted!\")\n",
        "            else:\n",
        "                print(\"Behavioral authentication failed.\")\n",
        "        else:\n",
        "            print(\"Graphical authentication failed.\")\n",
        "    else:\n",
        "        print(\"Textual authentication failed.\")\n",
        "\n",
        "if __name__ == \"__main__\":\n",
        "    main()"
      ]
    }
  ]
}